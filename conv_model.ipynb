{
 "cells": [
  {
   "cell_type": "code",
   "execution_count": 1,
   "metadata": {},
   "outputs": [
    {
     "name": "stderr",
     "output_type": "stream",
     "text": [
      "Using TensorFlow backend.\n"
     ]
    }
   ],
   "source": [
    "from cnn import *\n",
    "\n",
    "import os\n",
    "os.environ[\"CUDA_VISIBLE_DEVICES\"] = \"0\"\n",
    "\n",
    "from keras import backend as K\n",
    "from keras.optimizers import Adam\n",
    "\n",
    "from PIL import Image\n",
    "import numpy as np"
   ]
  },
  {
   "cell_type": "markdown",
   "metadata": {},
   "source": [
    "### Read images and shuffle"
   ]
  },
  {
   "cell_type": "code",
   "execution_count": 2,
   "metadata": {},
   "outputs": [],
   "source": [
    "data_dir_oil_wet = './data/32by32_SS2_OilWet/'\n",
    "data_dir_water_wet = './data/32by32_SS2_WaterWet/'"
   ]
  },
  {
   "cell_type": "code",
   "execution_count": 3,
   "metadata": {},
   "outputs": [],
   "source": [
    "num_images, dim_x = 800, 32"
   ]
  },
  {
   "cell_type": "code",
   "execution_count": 4,
   "metadata": {},
   "outputs": [],
   "source": [
    "data_water_wet = np.zeros((num_images, dim_x, dim_x, 3))\n",
    "data_oil_wet = np.zeros((num_images, dim_x, dim_x, 3))"
   ]
  },
  {
   "cell_type": "code",
   "execution_count": 5,
   "metadata": {},
   "outputs": [],
   "source": [
    "for k in range(num_images):\n",
    "    im_file = data_dir_water_wet + 'SS2_32by32_waterwet_%04d.tif' % (k+1)\n",
    "    data_water_wet[k, ...] = np.array(Image.open(im_file))"
   ]
  },
  {
   "cell_type": "code",
   "execution_count": 6,
   "metadata": {},
   "outputs": [],
   "source": [
    "for k in range(num_images):\n",
    "    im_file = data_dir_oil_wet + 'SS2_32by32_oilwet_%04d.tif' % (k+1)\n",
    "    data_oil_wet[k, ...] = np.array(Image.open(im_file))"
   ]
  },
  {
   "cell_type": "code",
   "execution_count": 7,
   "metadata": {
    "scrolled": true
   },
   "outputs": [
    {
     "data": {
      "text/plain": [
       "(800, 32, 32, 3)"
      ]
     },
     "execution_count": 7,
     "metadata": {},
     "output_type": "execute_result"
    }
   ],
   "source": [
    "data_water_wet.shape"
   ]
  },
  {
   "cell_type": "code",
   "execution_count": 8,
   "metadata": {},
   "outputs": [],
   "source": [
    "label_water_wet = np.zeros((num_images,2))\n",
    "label_water_wet[:, 0] = 1.\n",
    "label_oil_wet = np.zeros((num_images,2))\n",
    "label_oil_wet[:, 1] = 1."
   ]
  },
  {
   "cell_type": "code",
   "execution_count": 9,
   "metadata": {},
   "outputs": [],
   "source": [
    "all_data_raw = np.append(data_water_wet, data_oil_wet, axis=0)\n",
    "all_label_raw = np.append(label_water_wet, label_oil_wet, axis=0)"
   ]
  },
  {
   "cell_type": "code",
   "execution_count": 10,
   "metadata": {},
   "outputs": [],
   "source": [
    "# np.random.seed(1)\n",
    "randomize = np.array (np.arange(all_data_raw.shape[0]))\n",
    "np.random.shuffle(randomize)\n",
    "all_data = all_data_raw[randomize] / 255.\n",
    "all_label = all_label_raw[randomize]"
   ]
  },
  {
   "cell_type": "code",
   "execution_count": 11,
   "metadata": {},
   "outputs": [],
   "source": [
    "num_train, num_eval, num_test = 700*2, 100, 100"
   ]
  },
  {
   "cell_type": "code",
   "execution_count": 12,
   "metadata": {},
   "outputs": [],
   "source": [
    "train_data = all_data[:num_train, ...]\n",
    "train_label = all_label[:num_train, :]"
   ]
  },
  {
   "cell_type": "code",
   "execution_count": 13,
   "metadata": {},
   "outputs": [],
   "source": [
    "eval_data = all_data[num_train:(num_train+num_eval), ...]\n",
    "eval_label = all_label[num_train:(num_train+num_eval):, :]"
   ]
  },
  {
   "cell_type": "code",
   "execution_count": 14,
   "metadata": {},
   "outputs": [],
   "source": [
    "test_data = all_data[-num_test:, ...]\n",
    "test_label = all_label[-num_test:, :]"
   ]
  },
  {
   "cell_type": "code",
   "execution_count": 15,
   "metadata": {},
   "outputs": [
    {
     "name": "stdout",
     "output_type": "stream",
     "text": [
      "(1400, 32, 32, 3)\n",
      "(100, 32, 32, 3)\n",
      "(100, 32, 32, 3)\n"
     ]
    }
   ],
   "source": [
    "print(train_data.shape)\n",
    "print(eval_data.shape)\n",
    "print(test_data.shape)"
   ]
  },
  {
   "cell_type": "code",
   "execution_count": 16,
   "metadata": {},
   "outputs": [
    {
     "name": "stdout",
     "output_type": "stream",
     "text": [
      "(1400, 2)\n",
      "(100, 2)\n",
      "(100, 2)\n"
     ]
    }
   ],
   "source": [
    "print(train_label.shape)\n",
    "print(eval_label.shape)\n",
    "print(test_label.shape)"
   ]
  },
  {
   "cell_type": "markdown",
   "metadata": {},
   "source": [
    "## Save data"
   ]
  },
  {
   "cell_type": "code",
   "execution_count": 17,
   "metadata": {},
   "outputs": [],
   "source": [
    "import h5py"
   ]
  },
  {
   "cell_type": "code",
   "execution_count": 18,
   "metadata": {},
   "outputs": [],
   "source": [
    "fn = h5py.File('./saved_models/rock_image_32x32_onehotlabels.h5', 'w')\n",
    "fn.create_dataset('train', data=train_data)\n",
    "fn.create_dataset('train_label', data=test_label)\n",
    "fn.create_dataset('eval', data=eval_data)\n",
    "fn.create_dataset('eval_label', data=eval_label)\n",
    "fn.create_dataset('test', data=test_data)\n",
    "fn.create_dataset('test_label', data=test_label)\n",
    "fn.close()"
   ]
  },
  {
   "cell_type": "code",
   "execution_count": 19,
   "metadata": {},
   "outputs": [
    {
     "data": {
      "text/plain": [
       "(1400, 2)"
      ]
     },
     "execution_count": 19,
     "metadata": {},
     "output_type": "execute_result"
    }
   ],
   "source": [
    "train_label.shape"
   ]
  },
  {
   "cell_type": "markdown",
   "metadata": {},
   "source": [
    "### Plot images"
   ]
  },
  {
   "cell_type": "code",
   "execution_count": 20,
   "metadata": {},
   "outputs": [],
   "source": [
    "import matplotlib.pyplot as plt"
   ]
  },
  {
   "cell_type": "code",
   "execution_count": 21,
   "metadata": {},
   "outputs": [],
   "source": [
    "title_dict = {0.0: 'oil wet', 1.0: 'water wet'}"
   ]
  },
  {
   "cell_type": "code",
   "execution_count": 22,
   "metadata": {
    "scrolled": true
   },
   "outputs": [
    {
     "name": "stderr",
     "output_type": "stream",
     "text": [
      "/data/cees/wyun/miniconda3/envs/keras-gpu/lib/python3.6/site-packages/matplotlib/text.py:1191: FutureWarning: elementwise comparison failed; returning scalar instead, but in the future will perform elementwise comparison\n",
      "  if s != self._text:\n"
     ]
    },
    {
     "data": {
      "image/png": "[encoded data removed]",
      "text/plain": [
       "<Figure size 432x288 with 1 Axes>"
      ]
     },
     "metadata": {
      "needs_background": "light"
     },
     "output_type": "display_data"
    },
    {
     "data": {
      "image/png": "[encoded data removed]",
      "text/plain": [
       "<Figure size 432x288 with 1 Axes>"
      ]
     },
     "metadata": {
      "needs_background": "light"
     },
     "output_type": "display_data"
    },
    {
     "data": {
      "image/png": "[encoded data removed]",
      "text/plain": [
       "<Figure size 432x288 with 1 Axes>"
      ]
     },
     "metadata": {
      "needs_background": "light"
     },
     "output_type": "display_data"
    },
    {
     "data": {
      "image/png": "[encoded data removed]",
      "text/plain": [
       "<Figure size 432x288 with 1 Axes>"
      ]
     },
     "metadata": {
      "needs_background": "light"
     },
     "output_type": "display_data"
    },
    {
     "data": {
      "image/png": "[encoded data removed]",
      "text/plain": [
       "<Figure size 432x288 with 1 Axes>"
      ]
     },
     "metadata": {
      "needs_background": "light"
     },
     "output_type": "display_data"
    }
   ],
   "source": [
    "for k in range(5):\n",
    "    plt.imshow(train_data[k, ...])\n",
    "    plt.title(train_label[k])\n",
    "    plt.show()"
   ]
  },
  {
   "cell_type": "markdown",
   "metadata": {},
   "source": [
    "## Construct CNN"
   ]
  },
  {
   "cell_type": "code",
   "execution_count": 23,
   "metadata": {},
   "outputs": [],
   "source": [
    "input_shape =(dim_x, dim_x, 3)\n",
    "hidden_dim = 500\n",
    "output_dim = 2"
   ]
  },
  {
   "cell_type": "code",
   "execution_count": 24,
   "metadata": {},
   "outputs": [],
   "source": [
    "cnn_model = create_cnn(input_shape, hidden_dim, output_dim)"
   ]
  },
  {
   "cell_type": "code",
   "execution_count": 25,
   "metadata": {
    "scrolled": true
   },
   "outputs": [
    {
     "name": "stdout",
     "output_type": "stream",
     "text": [
      "_________________________________________________________________\n",
      "Layer (type)                 Output Shape              Param #   \n",
      "=================================================================\n",
      "image (InputLayer)           (None, 32, 32, 3)         0         \n",
      "_________________________________________________________________\n",
      "conv2d_1 (Conv2D)            (None, 32, 32, 3)         84        \n",
      "_________________________________________________________________\n",
      "activation_1 (Activation)    (None, 32, 32, 3)         0         \n",
      "_________________________________________________________________\n",
      "max_pooling2d_1 (MaxPooling2 (None, 16, 16, 3)         0         \n",
      "_________________________________________________________________\n",
      "conv2d_2 (Conv2D)            (None, 16, 16, 3)         84        \n",
      "_________________________________________________________________\n",
      "activation_2 (Activation)    (None, 16, 16, 3)         0         \n",
      "_________________________________________________________________\n",
      "max_pooling2d_2 (MaxPooling2 (None, 8, 8, 3)           0         \n",
      "_________________________________________________________________\n",
      "conv2d_3 (Conv2D)            (None, 8, 8, 3)           84        \n",
      "_________________________________________________________________\n",
      "activation_3 (Activation)    (None, 8, 8, 3)           0         \n",
      "_________________________________________________________________\n",
      "max_pooling2d_3 (MaxPooling2 (None, 4, 4, 3)           0         \n",
      "_________________________________________________________________\n",
      "flatten_1 (Flatten)          (None, 48)                0         \n",
      "_________________________________________________________________\n",
      "dense_1 (Dense)              (None, 500)               24500     \n",
      "_________________________________________________________________\n",
      "dense_2 (Dense)              (None, 2)                 1002      \n",
      "=================================================================\n",
      "Total params: 25,754\n",
      "Trainable params: 25,754\n",
      "Non-trainable params: 0\n",
      "_________________________________________________________________\n"
     ]
    }
   ],
   "source": [
    "cnn_model.compile(optimizer='rmsprop', loss='categorical_crossentropy', metrics=['accuracy'])\n",
    "cnn_model.summary()"
   ]
  },
  {
   "cell_type": "markdown",
   "metadata": {},
   "source": [
    "## Train the model"
   ]
  },
  {
   "cell_type": "code",
   "execution_count": 26,
   "metadata": {
    "scrolled": true
   },
   "outputs": [
    {
     "name": "stdout",
     "output_type": "stream",
     "text": [
      "Train on 1400 samples, validate on 100 samples\n",
      "Epoch 1/50\n",
      "1400/1400 [==============================] - 14s 10ms/step - loss: 0.6922 - acc: 0.5307 - val_loss: 0.6674 - val_acc: 0.6100\n",
      "Epoch 2/50\n",
      "1400/1400 [==============================] - 0s 182us/step - loss: 0.6746 - acc: 0.5836 - val_loss: 0.6397 - val_acc: 0.8100\n",
      "Epoch 3/50\n",
      "1400/1400 [==============================] - 0s 172us/step - loss: 0.6564 - acc: 0.6350 - val_loss: 0.6239 - val_acc: 0.6800\n",
      "Epoch 4/50\n",
      "1400/1400 [==============================] - 0s 173us/step - loss: 0.6306 - acc: 0.6836 - val_loss: 0.5714 - val_acc: 0.7900\n",
      "Epoch 5/50\n",
      "1400/1400 [==============================] - 0s 167us/step - loss: 0.5947 - acc: 0.7121 - val_loss: 0.5089 - val_acc: 0.8500\n",
      "Epoch 6/50\n",
      "1400/1400 [==============================] - 0s 169us/step - loss: 0.5571 - acc: 0.7443 - val_loss: 0.4580 - val_acc: 0.8200\n",
      "Epoch 7/50\n",
      "1400/1400 [==============================] - 0s 165us/step - loss: 0.5284 - acc: 0.7557 - val_loss: 0.4216 - val_acc: 0.8600\n",
      "Epoch 8/50\n",
      "1400/1400 [==============================] - 0s 158us/step - loss: 0.5015 - acc: 0.7636 - val_loss: 0.3957 - val_acc: 0.8500\n",
      "Epoch 9/50\n",
      "1400/1400 [==============================] - 0s 164us/step - loss: 0.4631 - acc: 0.7971 - val_loss: 0.3755 - val_acc: 0.8600\n",
      "Epoch 10/50\n",
      "1400/1400 [==============================] - 0s 164us/step - loss: 0.4404 - acc: 0.8229 - val_loss: 0.3317 - val_acc: 0.8800\n",
      "Epoch 11/50\n",
      "1400/1400 [==============================] - 0s 152us/step - loss: 0.4008 - acc: 0.8279 - val_loss: 0.2871 - val_acc: 0.8800\n",
      "Epoch 12/50\n",
      "1400/1400 [==============================] - 0s 157us/step - loss: 0.3762 - acc: 0.8429 - val_loss: 0.2517 - val_acc: 0.9300\n",
      "Epoch 13/50\n",
      "1400/1400 [==============================] - 0s 165us/step - loss: 0.3587 - acc: 0.8536 - val_loss: 0.2379 - val_acc: 0.8900\n",
      "Epoch 14/50\n",
      "1400/1400 [==============================] - 0s 164us/step - loss: 0.3218 - acc: 0.8693 - val_loss: 0.2348 - val_acc: 0.8900\n",
      "Epoch 15/50\n",
      "1400/1400 [==============================] - 0s 162us/step - loss: 0.3029 - acc: 0.8786 - val_loss: 0.2376 - val_acc: 0.9000\n",
      "Epoch 16/50\n",
      "1400/1400 [==============================] - 0s 167us/step - loss: 0.2775 - acc: 0.8879 - val_loss: 0.1675 - val_acc: 0.9500\n",
      "Epoch 17/50\n",
      "1400/1400 [==============================] - 0s 161us/step - loss: 0.2634 - acc: 0.8936 - val_loss: 0.2039 - val_acc: 0.9400\n",
      "Epoch 18/50\n",
      "1400/1400 [==============================] - 0s 160us/step - loss: 0.2489 - acc: 0.8993 - val_loss: 0.1442 - val_acc: 0.9600\n",
      "Epoch 19/50\n",
      "1400/1400 [==============================] - 0s 168us/step - loss: 0.2329 - acc: 0.8993 - val_loss: 0.1981 - val_acc: 0.8900\n",
      "Epoch 20/50\n",
      "1400/1400 [==============================] - 0s 171us/step - loss: 0.2263 - acc: 0.9064 - val_loss: 0.1729 - val_acc: 0.9100\n",
      "Epoch 21/50\n",
      "1400/1400 [==============================] - 0s 170us/step - loss: 0.2144 - acc: 0.9079 - val_loss: 0.1162 - val_acc: 0.9800\n",
      "Epoch 22/50\n",
      "1400/1400 [==============================] - 0s 166us/step - loss: 0.1797 - acc: 0.9364 - val_loss: 0.1824 - val_acc: 0.8800\n",
      "Epoch 23/50\n",
      "1400/1400 [==============================] - 0s 179us/step - loss: 0.1731 - acc: 0.9364 - val_loss: 0.0903 - val_acc: 0.9700\n",
      "Epoch 24/50\n",
      "1400/1400 [==============================] - 0s 174us/step - loss: 0.1835 - acc: 0.9329 - val_loss: 0.0856 - val_acc: 0.9800\n",
      "Epoch 25/50\n",
      "1400/1400 [==============================] - 0s 170us/step - loss: 0.1498 - acc: 0.9450 - val_loss: 0.0997 - val_acc: 0.9800\n",
      "Epoch 26/50\n",
      "1400/1400 [==============================] - 0s 159us/step - loss: 0.1599 - acc: 0.9386 - val_loss: 0.0755 - val_acc: 0.9800\n",
      "Epoch 27/50\n",
      "1400/1400 [==============================] - 0s 159us/step - loss: 0.1434 - acc: 0.9450 - val_loss: 0.0827 - val_acc: 0.9800\n",
      "Epoch 28/50\n",
      "1400/1400 [==============================] - 0s 181us/step - loss: 0.1397 - acc: 0.9457 - val_loss: 0.0684 - val_acc: 0.9800\n",
      "Epoch 29/50\n",
      "1400/1400 [==============================] - 0s 173us/step - loss: 0.1388 - acc: 0.9450 - val_loss: 0.0695 - val_acc: 0.9800\n",
      "Epoch 30/50\n",
      "1400/1400 [==============================] - 0s 183us/step - loss: 0.1297 - acc: 0.9521 - val_loss: 0.0709 - val_acc: 0.9800\n",
      "Epoch 31/50\n",
      "1400/1400 [==============================] - 0s 164us/step - loss: 0.1182 - acc: 0.9514 - val_loss: 0.0652 - val_acc: 0.9800\n",
      "Epoch 32/50\n",
      "1400/1400 [==============================] - 0s 159us/step - loss: 0.1118 - acc: 0.9629 - val_loss: 0.0853 - val_acc: 0.9700\n",
      "Epoch 33/50\n",
      "1400/1400 [==============================] - 0s 167us/step - loss: 0.0973 - acc: 0.9664 - val_loss: 0.0480 - val_acc: 0.9900\n",
      "Epoch 34/50\n",
      "1400/1400 [==============================] - 0s 155us/step - loss: 0.1041 - acc: 0.9621 - val_loss: 0.1411 - val_acc: 0.9500\n",
      "Epoch 35/50\n",
      "1400/1400 [==============================] - 0s 162us/step - loss: 0.0905 - acc: 0.9664 - val_loss: 0.0411 - val_acc: 0.9900\n",
      "Epoch 36/50\n",
      "1400/1400 [==============================] - 0s 165us/step - loss: 0.1049 - acc: 0.9614 - val_loss: 0.0609 - val_acc: 0.9800\n",
      "Epoch 37/50\n",
      "1400/1400 [==============================] - 0s 162us/step - loss: 0.0884 - acc: 0.9657 - val_loss: 0.0374 - val_acc: 0.9900\n",
      "Epoch 38/50\n",
      "1400/1400 [==============================] - 0s 162us/step - loss: 0.0818 - acc: 0.9700 - val_loss: 0.1028 - val_acc: 0.9500\n",
      "Epoch 39/50\n",
      "1400/1400 [==============================] - 0s 169us/step - loss: 0.0815 - acc: 0.9686 - val_loss: 0.0295 - val_acc: 0.9900\n",
      "Epoch 40/50\n",
      "1400/1400 [==============================] - 0s 176us/step - loss: 0.0712 - acc: 0.9757 - val_loss: 0.1370 - val_acc: 0.9200\n",
      "Epoch 41/50\n",
      "1400/1400 [==============================] - 0s 167us/step - loss: 0.0748 - acc: 0.9764 - val_loss: 0.0491 - val_acc: 0.9900\n",
      "Epoch 42/50\n",
      "1400/1400 [==============================] - 0s 165us/step - loss: 0.0753 - acc: 0.9707 - val_loss: 0.0303 - val_acc: 0.9900\n",
      "Epoch 43/50\n",
      "1400/1400 [==============================] - 0s 164us/step - loss: 0.0833 - acc: 0.9671 - val_loss: 0.0425 - val_acc: 0.9900\n",
      "Epoch 44/50\n",
      "1400/1400 [==============================] - 0s 171us/step - loss: 0.0555 - acc: 0.9821 - val_loss: 0.0163 - val_acc: 1.0000\n",
      "Epoch 45/50\n",
      "1400/1400 [==============================] - 0s 163us/step - loss: 0.0804 - acc: 0.9729 - val_loss: 0.0238 - val_acc: 0.9900\n",
      "Epoch 46/50\n",
      "1400/1400 [==============================] - 0s 163us/step - loss: 0.0821 - acc: 0.9729 - val_loss: 0.0192 - val_acc: 0.9900\n",
      "Epoch 47/50\n",
      "1400/1400 [==============================] - 0s 165us/step - loss: 0.0505 - acc: 0.9836 - val_loss: 0.0310 - val_acc: 0.9900\n",
      "Epoch 48/50\n",
      "1400/1400 [==============================] - 0s 166us/step - loss: 0.0526 - acc: 0.9807 - val_loss: 0.0296 - val_acc: 0.9900\n",
      "Epoch 49/50\n",
      "1400/1400 [==============================] - 0s 167us/step - loss: 0.0452 - acc: 0.9821 - val_loss: 0.0268 - val_acc: 1.0000\n",
      "Epoch 50/50\n",
      "1400/1400 [==============================] - 0s 167us/step - loss: 0.0855 - acc: 0.9736 - val_loss: 0.0172 - val_acc: 1.0000\n"
     ]
    }
   ],
   "source": [
    "hist = cnn_model.fit(x=train_data, y=train_label, batch_size=50, epochs=50, validation_data=(eval_data, eval_label), verbose=True)"
   ]
  },
  {
   "cell_type": "markdown",
   "metadata": {},
   "source": [
    "## Save trained model"
   ]
  },
  {
   "cell_type": "code",
   "execution_count": 27,
   "metadata": {},
   "outputs": [],
   "source": [
    "cnn_model.save_weights('./saved_models/cnn_sandstone2_32x32_onehotlabel.h5')"
   ]
  },
  {
   "cell_type": "markdown",
   "metadata": {},
   "source": [
    "## Plot the training process"
   ]
  },
  {
   "cell_type": "code",
   "execution_count": 28,
   "metadata": {},
   "outputs": [
    {
     "data": {
      "text/plain": [
       "dict_keys(['val_loss', 'val_acc', 'loss', 'acc'])"
      ]
     },
     "execution_count": 28,
     "metadata": {},
     "output_type": "execute_result"
    }
   ],
   "source": [
    "hist.history.keys()"
   ]
  },
  {
   "cell_type": "code",
   "execution_count": 29,
   "metadata": {},
   "outputs": [
    {
     "data": {
      "image/png": "[encoded data removed]",
      "text/plain": [
       "<Figure size 432x288 with 1 Axes>"
      ]
     },
     "metadata": {
      "needs_background": "light"
     },
     "output_type": "display_data"
    },
    {
     "data": {
      "image/png": "[encoded data removed]",
      "text/plain": [
       "<Figure size 432x288 with 1 Axes>"
      ]
     },
     "metadata": {
      "needs_background": "light"
     },
     "output_type": "display_data"
    }
   ],
   "source": [
    "plt.plot(hist.history['val_loss'], marker='.')\n",
    "plt.plot(hist.history['loss'], marker='.')\n",
    "plt.legend(['Validation loss', 'Training loss'])\n",
    "plt.xlabel('Epochs')\n",
    "plt.figure()\n",
    "plt.plot(hist.history['val_acc'], marker='.')\n",
    "plt.plot(hist.history['acc'], marker='.')\n",
    "plt.xlabel('Epochs')\n",
    "plt.legend(['Validation accuracy', 'Training accuracy'])\n",
    "plt.show()"
   ]
  },
  {
   "cell_type": "code",
   "execution_count": 30,
   "metadata": {},
   "outputs": [],
   "source": [
    "import pickle"
   ]
  },
  {
   "cell_type": "code",
   "execution_count": 31,
   "metadata": {},
   "outputs": [],
   "source": [
    "pickle.dump( hist.history, open( \"saved_models/hist_conv_sandstone2_32x32_onehot_label.pickle\", \"wb\" ) )"
   ]
  },
  {
   "cell_type": "markdown",
   "metadata": {},
   "source": [
    "## Plot the saliency map"
   ]
  },
  {
   "cell_type": "code",
   "execution_count": 32,
   "metadata": {},
   "outputs": [
    {
     "data": {
      "text/plain": [
       "(1, 32, 32, 3)"
      ]
     },
     "execution_count": 32,
     "metadata": {},
     "output_type": "execute_result"
    }
   ],
   "source": [
    "saliency_data = test_data[[0], ...]\n",
    "saliency_data.shape"
   ]
  },
  {
   "cell_type": "code",
   "execution_count": 33,
   "metadata": {},
   "outputs": [],
   "source": [
    "predicted_label = cnn_model.predict(saliency_data)"
   ]
  },
  {
   "cell_type": "code",
   "execution_count": 34,
   "metadata": {},
   "outputs": [
    {
     "data": {
      "text/plain": [
       "array([[3.9501938e-06, 9.9999607e-01]], dtype=float32)"
      ]
     },
     "execution_count": 34,
     "metadata": {},
     "output_type": "execute_result"
    }
   ],
   "source": [
    "predicted_label"
   ]
  },
  {
   "cell_type": "code",
   "execution_count": 35,
   "metadata": {},
   "outputs": [
    {
     "data": {
      "image/png": "[encoded data removed]",
      "text/plain": [
       "<Figure size 432x288 with 1 Axes>"
      ]
     },
     "metadata": {
      "needs_background": "light"
     },
     "output_type": "display_data"
    }
   ],
   "source": [
    "plt.imshow(saliency_data[0,...])\n",
    "plt.show()"
   ]
  },
  {
   "cell_type": "code",
   "execution_count": 49,
   "metadata": {},
   "outputs": [
    {
     "data": {
      "text/plain": [
       "<tf.Tensor 'Mean:0' shape=(?,) dtype=float32>"
      ]
     },
     "execution_count": 49,
     "metadata": {},
     "output_type": "execute_result"
    }
   ],
   "source": [
    "from keras.losses import binary_crossentropy\n",
    "import keras.backend as K\n"
   ]
  },
  {
   "cell_type": "code",
   "execution_count": 36,
   "metadata": {},
   "outputs": [
    {
     "data": {
      "text/plain": [
       "<tf.Tensor 'dense_2/Softmax:0' shape=(?, 2) dtype=float32>"
      ]
     },
     "execution_count": 36,
     "metadata": {},
     "output_type": "execute_result"
    }
   ],
   "source": [
    "cnn_model.output"
   ]
  },
  {
   "cell_type": "code",
   "execution_count": 37,
   "metadata": {},
   "outputs": [],
   "source": [
    "saliency = K.gradients(cnn_model.output[:,1], cnn_model.input)[0]"
   ]
  },
  {
   "cell_type": "code",
   "execution_count": 38,
   "metadata": {},
   "outputs": [
    {
     "data": {
      "text/plain": [
       "<tf.Tensor 'gradients/conv2d_1/convolution_grad/Conv2DBackpropInput:0' shape=(?, 32, 32, 3) dtype=float32>"
      ]
     },
     "execution_count": 38,
     "metadata": {},
     "output_type": "execute_result"
    }
   ],
   "source": [
    "saliency"
   ]
  },
  {
   "cell_type": "code",
   "execution_count": 39,
   "metadata": {
    "scrolled": true
   },
   "outputs": [],
   "source": [
    "saliency_evaluator = K.function([cnn_model.input], [saliency], updates=None)"
   ]
  },
  {
   "cell_type": "code",
   "execution_count": 40,
   "metadata": {},
   "outputs": [],
   "source": [
    "saliency_map = saliency_evaluator([saliency_data])[0]"
   ]
  },
  {
   "cell_type": "code",
   "execution_count": 41,
   "metadata": {},
   "outputs": [
    {
     "data": {
      "text/plain": [
       "(1, 32, 32)"
      ]
     },
     "execution_count": 41,
     "metadata": {},
     "output_type": "execute_result"
    }
   ],
   "source": [
    "saliency_map = np.max(saliency_map, axis=3)\n",
    "saliency_map.shape"
   ]
  },
  {
   "cell_type": "code",
   "execution_count": 54,
   "metadata": {},
   "outputs": [
    {
     "data": {
      "text/plain": [
       "<Figure size 432x288 with 0 Axes>"
      ]
     },
     "metadata": {},
     "output_type": "display_data"
    }
   ],
   "source": [
    "plt.set_cmap('gray')"
   ]
  },
  {
   "cell_type": "code",
   "execution_count": 56,
   "metadata": {
    "scrolled": true
   },
   "outputs": [
    {
     "data": {
      "image/png": "[encoded data removed]",
      "text/plain": [
       "<Figure size 432x288 with 4 Axes>"
      ]
     },
     "metadata": {
      "needs_background": "light"
     },
     "output_type": "display_data"
    }
   ],
   "source": [
    "for k in range(1):\n",
    "    plt.subplot(1,2,1)\n",
    "    plt.imshow(saliency_data[k,...])\n",
    "    plt.colorbar(fraction=0.046)\n",
    "    plt.title(test_label[k])\n",
    "    plt.subplot(1,2,2)\n",
    "    plt.imshow(saliency_map[k,...])\n",
    "    plt.colorbar(fraction=0.046)\n",
    "    plt.show()\n"
   ]
  },
  {
   "cell_type": "markdown",
   "metadata": {},
   "source": [
    "## Plot result"
   ]
  },
  {
   "cell_type": "code",
   "execution_count": 29,
   "metadata": {},
   "outputs": [
    {
     "name": "stdout",
     "output_type": "stream",
     "text": [
      "True label 1, Predicted label 1\n"
     ]
    },
    {
     "data": {
      "image/png": "[encoded data removed]",
      "text/plain": [
       "<Figure size 432x288 with 1 Axes>"
      ]
     },
     "metadata": {
      "needs_background": "light"
     },
     "output_type": "display_data"
    }
   ],
   "source": [
    "plt.imshow(test_data[58, ...])\n",
    "print('True label %d, Predicted label %d' % (test_label[58], test_label_predict[58]))\n",
    "plt.show()"
   ]
  }
 ],
 "metadata": {
  "kernelspec": {
   "display_name": "Python 3",
   "language": "python",
   "name": "python3"
  },
  "language_info": {
   "codemirror_mode": {
    "name": "ipython",
    "version": 3
   },
   "file_extension": ".py",
   "mimetype": "text/x-python",
   "name": "python",
   "nbconvert_exporter": "python",
   "pygments_lexer": "ipython3",
   "version": "3.6.8"
  }
 },
 "nbformat": 4,
 "nbformat_minor": 2
}
